{
 "cells": [
  {
   "cell_type": "code",
   "execution_count": null,
   "id": "7695c6f1-1ab6-45d0-918e-2ac72b98b9ed",
   "metadata": {},
   "outputs": [],
   "source": [
    "#include <iostream>"
   ]
  },
  {
   "cell_type": "code",
   "execution_count": null,
   "id": "617f529a-fb65-4805-8931-df4e0b560886",
   "metadata": {},
   "outputs": [],
   "source": [
    "std::cout << \"Hello world\" << std::endl;"
   ]
  }
 ],
 "metadata": {
  "kernelspec": {
   "display_name": "C++11",
   "language": "C++11",
   "name": "xcpp11"
  },
  "language_info": {
   "name": ""
  }
 },
 "nbformat": 4,
 "nbformat_minor": 5
}
